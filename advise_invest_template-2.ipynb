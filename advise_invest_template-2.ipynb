{
  "cells": [
    {
      "cell_type": "markdown",
      "metadata": {
        "id": "p_Yu45OYdj3Y"
      },
      "source": [
        "# AdviseInvest\n",
        "\n",
        "### Outline\n",
        "\n",
        "Our Goals with this Project:\n",
        "\n",
        "1. Import and review the data\n",
        "2. Perform EDA and Clean Data\n",
        "3. Fit a model\n",
        "4. Test the accuracy of the model\n",
        "6.  Use the model to predict on a new dataset (without the target)\n",
        "\n",
        "<a href=\"https://colab.research.google.com/github/Stan-Pugsley/is_4487_base/blob/main/Assignments/Scripts/advise_invest_template.ipynb\" target=\"_parent\"><img src=\"https://colab.research.google.com/assets/colab-badge.svg\" alt=\"Open In Colab\"/></a>"
      ]
    },
    {
      "cell_type": "markdown",
      "metadata": {
        "id": "OZrtT0lUaEUT"
      },
      "source": [
        "### AdviseInvest Data Dictionary\n",
        "\n",
        "Variable    |Description |Type    |Code\n",
        "---- | ------- | ------ | -----\n",
        "Answered       | Customer response |    Binary    |0: customer did not answer scheduled call; 1: customer answered scheduled call\n",
        "Income       | Customer income in US dollars|\tNumeric\n",
        "Female       | Customer gender|\tBinary\t0: female; 1: male\n",
        "Age\t         | Age in years|\tNumeric\n",
        "Job          | Nature of job|\tCategorical|\t0 : unemployed; 1 : entry level position; 2 : midlevel position; 3 : management/ self-employed/ highly qualified employee/ officer\n",
        "Num_dependents | Number of people for whom the customer provides maintenance|\tNumeric\n",
        "Rent\t| Customer rents\t|Binary\t|0: no; 1: yes\n",
        "Own_res\t| Customer owns residence|\tBinary|\t0: no; 1: yes\n",
        "New_car| Recent new car purchase\t|Binary|\tNew car purchase in the last 3 months: 0: no, 1: yes\n",
        "Chk_acct | Checking account status\t|Categorical|\t0 : no checking account; 1: checking < 200 USD; 2 : 200 < checking < 2000 USD; 3: 2000 < checking < 35000 USD; 4: >= 3500 USD\n",
        "Sav_acct\t| Average balance in savings account|\tCategorical|\t0 : no savings account; 1 : 100 <= savings < 500 USD; 2 : 500 <= savings < 2000 USD; 3 : 2000 < savings < 35000 USD; 4: >= 3500 USD\n",
        "Num_accts\t| Number of accounts owned by customer\t|Numeric\n",
        "Mobile\t| Mobile phone\t|Binary\t|0: customer provided non‐mobile phone for follow‐up call; 1: customer provided mobile phone for follow‐up call\n",
        "Product| Type of product purchased after conversation with sales rep\t|Categorical|\t0: customer did not answer call; 1: customer answered but did not purchase a product; 2: customer answered and purchased Beginner plan; 3: customer answered and purchased Intermediate plan; 4: customer answered and purchased Advanced plan\n",
        "\n"
      ]
    },
    {
      "cell_type": "markdown",
      "metadata": {
        "id": "UE93RwXhgiJS"
      },
      "source": [
        "### Load Libraries\n",
        "\n",
        "In this class we will be using\n",
        "- Pandas\n",
        "- Scikitlearn\n",
        "- Matplotlib\n"
      ]
    },
    {
      "cell_type": "code",
      "execution_count": 1,
      "metadata": {
        "id": "JYRZY5n0gfNe"
      },
      "outputs": [],
      "source": [
        "import pandas as pd\n",
        "import matplotlib as mpl\n",
        "import seaborn as sns\n",
        "\n",
        "from sklearn.model_selection import train_test_split\n",
        "from sklearn.tree import DecisionTreeClassifier, export_graphviz # Import Decision Tree Classifier\n",
        "from sklearn import metrics  #Import scikit-learn metrics module for accuracy calculation\n",
        "from sklearn.metrics import confusion_matrix\n",
        "import matplotlib.pyplot as plt\n"
      ]
    },
    {
      "cell_type": "markdown",
      "metadata": {
        "id": "bREaXo8jfu-O"
      },
      "source": [
        "## Step 1: Initial Data Understanding\n",
        "\n",
        " - Import data from the AdviseInvest historical dataset into a dataframe (in GitHub go to Assignments > DataSets)\n",
        " - Describe or profile the dataframe\n",
        " - Look for any outliers, missing values, or duplicates"
      ]
    },
    {
      "cell_type": "code",
      "execution_count": 2,
      "metadata": {
        "id": "6_FwprxVgR0e",
        "outputId": "1d424d16-9f3a-4c73-9da1-92fb9e748a6c",
        "colab": {
          "base_uri": "https://localhost:8080/"
        }
      },
      "outputs": [
        {
          "output_type": "stream",
          "name": "stdout",
          "text": [
            "   income  female  age  job  num_dependents  rent  own_res  new_car  chk_acct  \\\n",
            "0   30010       0   40    2               1     1        0        0         1   \n",
            "1   30510       0   54    2               1     0        1        0         0   \n",
            "2   12880       0   48    2               2     0        1        0         0   \n",
            "3   15530       0   44    2               1     0        1        0         0   \n",
            "4   46230       0   40    3               1     0        1        0         3   \n",
            "\n",
            "   sav_acct  num_accts  mobile customer_id  \n",
            "0         0          3       0       H1597  \n",
            "1         0          2       0       P1446  \n",
            "2         1          4       0       E1492  \n",
            "3         0          2       0       W5143  \n",
            "4         1          2       0       W4927  \n"
          ]
        }
      ],
      "source": [
        "# Define the raw GitHub URL\n",
        "url = \"https://raw.githubusercontent.com/Stan-Pugsley/is_4487_base/main/Assignments/DataSets/adviseinvest_new_customer_data.csv\"\n",
        "\n",
        "# Read the CSV file into a DataFrame\n",
        "df = pd.read_csv(url)\n",
        "\n",
        "# Display the first few rows of the DataFrame\n",
        "print(df.head())"
      ]
    },
    {
      "cell_type": "code",
      "execution_count": 3,
      "metadata": {
        "id": "0wkRD0aBa_H7",
        "outputId": "d8f564e4-5752-44cd-aafd-a9aa91f6d5f9",
        "colab": {
          "base_uri": "https://localhost:8080/"
        }
      },
      "outputs": [
        {
          "output_type": "stream",
          "name": "stdout",
          "text": [
            "Missing Values:\n",
            " Series([], dtype: int64)\n",
            "\n",
            "Number of Duplicates: 0\n",
            "\n",
            "Outliers per Numeric Column:\n",
            " income             67\n",
            "female             50\n",
            "age                26\n",
            "job               383\n",
            "num_dependents    139\n",
            "rent              213\n",
            "new_car           227\n",
            "mobile            103\n",
            "dtype: int64\n"
          ]
        }
      ],
      "source": [
        "\n",
        "# Check for missing values\n",
        "missing_values = df.isnull().sum()\n",
        "\n",
        "# Check for duplicates\n",
        "duplicates = df.duplicated().sum()\n",
        "\n",
        "# Check for outliers using the IQR method\n",
        "numeric_cols = df.select_dtypes(include=['number'])  # Select only numeric columns\n",
        "Q1 = numeric_cols.quantile(0.25)\n",
        "Q3 = numeric_cols.quantile(0.75)\n",
        "IQR = Q3 - Q1\n",
        "\n",
        "# Outliers are values below Q1 - 1.5*IQR or above Q3 + 1.5*IQR\n",
        "outliers = ((numeric_cols < (Q1 - 1.5 * IQR)) | (numeric_cols > (Q3 + 1.5 * IQR))).sum()\n",
        "\n",
        "# Print the results\n",
        "print(\"Missing Values:\\n\", missing_values[missing_values > 0])\n",
        "print(\"\\nNumber of Duplicates:\", duplicates)\n",
        "print(\"\\nOutliers per Numeric Column:\\n\", outliers[outliers > 0])\n"
      ]
    },
    {
      "cell_type": "code",
      "execution_count": null,
      "metadata": {
        "id": "QkKLnfFrbEOS"
      },
      "outputs": [],
      "source": []
    },
    {
      "cell_type": "markdown",
      "metadata": {
        "id": "BtxOWvFlKzgE"
      },
      "source": [
        "## Step 2: Data Preparation\n",
        "\n",
        "### 2.1: Data Cleanup\n",
        "- Remove any variables that are not relevant to our analysis (if they relate to activity after the answer).\n",
        "- Clean up the data and put it in a new datafram named \"df_clean\"\n"
      ]
    },
    {
      "cell_type": "code",
      "execution_count": 4,
      "metadata": {
        "id": "7KXLvMcBK8Za",
        "outputId": "6d6467d6-e025-45cd-ef31-90efcff011a6",
        "colab": {
          "base_uri": "https://localhost:8080/"
        }
      },
      "outputs": [
        {
          "output_type": "stream",
          "name": "stdout",
          "text": [
            "Original dataset size: 1000 rows\n",
            "Cleaned dataset size: 277 rows\n"
          ]
        }
      ],
      "source": [
        "\n",
        "\n",
        "# Select only numeric columns\n",
        "numeric_cols = df.select_dtypes(include=['number'])\n",
        "\n",
        "# Compute Q1 (25th percentile) and Q3 (75th percentile)\n",
        "Q1 = numeric_cols.quantile(0.25)\n",
        "Q3 = numeric_cols.quantile(0.75)\n",
        "IQR = Q3 - Q1\n",
        "\n",
        "# Define outlier thresholds\n",
        "lower_bound = Q1 - 1.5 * IQR\n",
        "upper_bound = Q3 + 1.5 * IQR\n",
        "\n",
        "# Filter out outliers\n",
        "df_clean = df[~((numeric_cols < lower_bound) | (numeric_cols > upper_bound)).any(axis=1)]\n",
        "\n",
        "# Display the number of rows before and after removing outliers\n",
        "print(f\"Original dataset size: {df.shape[0]} rows\")\n",
        "print(f\"Cleaned dataset size: {df_clean.shape[0]} rows\")\n"
      ]
    },
    {
      "cell_type": "code",
      "source": [
        "\n",
        "\n",
        "# Display column names to verify correct names\n",
        "print(\"Columns in dataset:\", df.columns.tolist())\n",
        "\n",
        "# Identify columns to drop based on redundancy or low value\n",
        "columns_to_drop = [\n",
        "    'Own_res',  # Redundant since 'Rent' provides similar info (if you rent, you don’t own)\n",
        "    'Chk_acct',  # Checking account status may not be relevant for analysis\n",
        "    'Mobile',  # Whether a phone is mobile or not is unlikely to affect financial decisions\n",
        "    'New_car'  # Recent car purchase may not be useful for investment advice\n",
        "]\n",
        "\n",
        "# Drop only the columns that exist in the dataset\n",
        "df_clean = df.drop(columns=[col for col in columns_to_drop if col in df.columns])\n",
        "\n",
        "# Display the remaining columns\n",
        "print(\"Remaining columns after cleaning:\", df_clean.columns.tolist())\n"
      ],
      "metadata": {
        "id": "Gy87Pwrt2g3J",
        "outputId": "4323fb9f-a334-46ea-ef33-4ef7590e12e6",
        "colab": {
          "base_uri": "https://localhost:8080/"
        }
      },
      "execution_count": 7,
      "outputs": [
        {
          "output_type": "stream",
          "name": "stdout",
          "text": [
            "Columns in dataset: ['income', 'female', 'age', 'job', 'num_dependents', 'rent', 'own_res', 'new_car', 'chk_acct', 'sav_acct', 'num_accts', 'mobile', 'customer_id']\n",
            "Remaining columns after cleaning: ['income', 'female', 'age', 'job', 'num_dependents', 'rent', 'own_res', 'new_car', 'chk_acct', 'sav_acct', 'num_accts', 'mobile', 'customer_id']\n"
          ]
        }
      ]
    },
    {
      "cell_type": "code",
      "source": [
        "\n",
        "from sklearn.preprocessing import MinMaxScaler\n",
        "\n",
        "\n",
        "# Step 1: Remove duplicates\n",
        "df = df.drop_duplicates()\n",
        "\n",
        "# Step 2: Handle missing values\n",
        "# Drop rows where all values are missing\n",
        "df = df.dropna(how='all')\n",
        "\n",
        "# Fill missing values appropriately\n",
        "for col in df.columns:\n",
        "    if df[col].dtype in ['int64', 'float64']:  # Numeric columns\n",
        "        df[col].fillna(df[col].median(), inplace=True)\n",
        "    else:  # Categorical and object columns\n",
        "        df[col].fillna(df[col].mode()[0], inplace=True)\n",
        "\n",
        "# Step 3: Convert categorical columns to appropriate types\n",
        "categorical_columns = ['Job', 'Chk_acct', 'Sav_acct', 'Product']\n",
        "for col in categorical_columns:\n",
        "    if col in df.columns:\n",
        "        df[col] = df[col].astype(str)  # Ensure categorical columns are strings\n",
        "\n",
        "# Step 4: Convert binary columns to integer type (0/1)\n",
        "binary_columns = ['Answered', 'Female', 'Rent', 'Own_res', 'New_car', 'Mobile']\n",
        "for col in binary_columns:\n",
        "    if col in df.columns:\n",
        "        df[col] = df[col].astype(int)\n",
        "\n",
        "# Step 5: Normalize numeric columns using Min-Max Scaling\n",
        "numeric_columns = ['Income', 'Age', 'Num_dependents', 'Num_accts']\n",
        "scaler = MinMaxScaler()\n",
        "\n",
        "# Ensure columns exist before applying scaler\n",
        "existing_numeric_cols = [col for col in numeric_columns if col in df.columns]\n",
        "if existing_numeric_cols:\n",
        "    df[existing_numeric_cols] = scaler.fit_transform(df[existing_numeric_cols])\n",
        "\n",
        "# Display cleaned dataset summary\n",
        "print(\"Data after cleaning:\")\n",
        "print(df.info())\n",
        "print(df.head())\n",
        "\n",
        "# Optional: Check for any column names with leading or trailing spaces\n",
        "print(\"Column names with possible spaces:\")\n",
        "print([col for col in df.columns if col != col.strip()])\n"
      ],
      "metadata": {
        "id": "B3lOqV7-3JyM",
        "outputId": "500b6c23-a790-4575-a139-17e276948b6a",
        "colab": {
          "base_uri": "https://localhost:8080/"
        }
      },
      "execution_count": 13,
      "outputs": [
        {
          "output_type": "stream",
          "name": "stdout",
          "text": [
            "Data after cleaning:\n",
            "<class 'pandas.core.frame.DataFrame'>\n",
            "RangeIndex: 1000 entries, 0 to 999\n",
            "Data columns (total 13 columns):\n",
            " #   Column          Non-Null Count  Dtype \n",
            "---  ------          --------------  ----- \n",
            " 0   income          1000 non-null   int64 \n",
            " 1   female          1000 non-null   int64 \n",
            " 2   age             1000 non-null   int64 \n",
            " 3   job             1000 non-null   int64 \n",
            " 4   num_dependents  1000 non-null   int64 \n",
            " 5   rent            1000 non-null   int64 \n",
            " 6   own_res         1000 non-null   int64 \n",
            " 7   new_car         1000 non-null   int64 \n",
            " 8   chk_acct        1000 non-null   int64 \n",
            " 9   sav_acct        1000 non-null   int64 \n",
            " 10  num_accts       1000 non-null   int64 \n",
            " 11  mobile          1000 non-null   int64 \n",
            " 12  customer_id     1000 non-null   object\n",
            "dtypes: int64(12), object(1)\n",
            "memory usage: 101.7+ KB\n",
            "None\n",
            "   income  female  age  job  num_dependents  rent  own_res  new_car  chk_acct  \\\n",
            "0   30010       0   40    2               1     1        0        0         1   \n",
            "1   30510       0   54    2               1     0        1        0         0   \n",
            "2   12880       0   48    2               2     0        1        0         0   \n",
            "3   15530       0   44    2               1     0        1        0         0   \n",
            "4   46230       0   40    3               1     0        1        0         3   \n",
            "\n",
            "   sav_acct  num_accts  mobile customer_id  \n",
            "0         0          3       0       H1597  \n",
            "1         0          2       0       P1446  \n",
            "2         1          4       0       E1492  \n",
            "3         0          2       0       W5143  \n",
            "4         1          2       0       W4927  \n",
            "Column names with possible spaces:\n",
            "[]\n"
          ]
        },
        {
          "output_type": "stream",
          "name": "stderr",
          "text": [
            "<ipython-input-13-06013b0bf5fa>:14: FutureWarning: A value is trying to be set on a copy of a DataFrame or Series through chained assignment using an inplace method.\n",
            "The behavior will change in pandas 3.0. This inplace method will never work because the intermediate object on which we are setting values always behaves as a copy.\n",
            "\n",
            "For example, when doing 'df[col].method(value, inplace=True)', try using 'df.method({col: value}, inplace=True)' or df[col] = df[col].method(value) instead, to perform the operation inplace on the original object.\n",
            "\n",
            "\n",
            "  df[col].fillna(df[col].median(), inplace=True)\n",
            "<ipython-input-13-06013b0bf5fa>:16: FutureWarning: A value is trying to be set on a copy of a DataFrame or Series through chained assignment using an inplace method.\n",
            "The behavior will change in pandas 3.0. This inplace method will never work because the intermediate object on which we are setting values always behaves as a copy.\n",
            "\n",
            "For example, when doing 'df[col].method(value, inplace=True)', try using 'df.method({col: value}, inplace=True)' or df[col] = df[col].method(value) instead, to perform the operation inplace on the original object.\n",
            "\n",
            "\n",
            "  df[col].fillna(df[col].mode()[0], inplace=True)\n"
          ]
        }
      ]
    },
    {
      "cell_type": "markdown",
      "metadata": {
        "id": "Zp7wGDqJ4iuL"
      },
      "source": [
        "### 2.2: Standardize variables\n",
        "\n",
        " - Change \"answered\" to yes/no and make it categorical\n",
        " - Convert any variables that should be an integer into an integer"
      ]
    },
    {
      "cell_type": "code",
      "source": [
        "# Create the 'answered' column based on the 'mobile' column (proxy for answered)\n",
        "df['answered'] = df['mobile'].apply(lambda x: 'Yes' if x == 1 else 'No')\n",
        "\n",
        "# Convert 'answered' to categorical (optional)\n",
        "df['answered'] = pd.Categorical(df['answered'])\n",
        "\n",
        "# Display the updated dataframe with 'answered' column\n",
        "print(df[['mobile', 'answered']].head())\n"
      ],
      "metadata": {
        "id": "vGnAzEUs4ima",
        "outputId": "2dc6cc56-5d34-4741-a597-8e21b486c4c0",
        "colab": {
          "base_uri": "https://localhost:8080/"
        }
      },
      "execution_count": 29,
      "outputs": [
        {
          "output_type": "stream",
          "name": "stdout",
          "text": [
            "   mobile answered\n",
            "0       0       No\n",
            "1       0       No\n",
            "2       0       No\n",
            "3       0       No\n",
            "4       0       No\n"
          ]
        }
      ]
    },
    {
      "cell_type": "code",
      "source": [
        "# Convert the 'answered' column from categorical (Yes/No) to integers (1/0)\n",
        "df['answered'] = df['answered'].apply(lambda x: 1 if x == 'Yes' else 0)\n",
        "\n",
        "# Display the updated dataframe with 'answered' as integer\n",
        "print(df[['mobile', 'answered']].head())\n"
      ],
      "metadata": {
        "id": "gZhVnmuX4nht",
        "outputId": "a76e9398-5bff-430b-a8d3-e06f26c09dfa",
        "colab": {
          "base_uri": "https://localhost:8080/"
        }
      },
      "execution_count": 34,
      "outputs": [
        {
          "output_type": "stream",
          "name": "stdout",
          "text": [
            "   mobile answered\n",
            "0       0        0\n",
            "1       0        0\n",
            "2       0        0\n",
            "3       0        0\n",
            "4       0        0\n"
          ]
        }
      ]
    },
    {
      "cell_type": "markdown",
      "metadata": {
        "id": "AuB0G9gJt7gn"
      },
      "source": [
        "### 2.3 Convert variables to categorical\n",
        "\n",
        "- Find at least 8 variables that would be appropriate to convert to categories\n",
        "- Create a new categorical variable for \"answered\""
      ]
    },
    {
      "cell_type": "code",
      "execution_count": 35,
      "metadata": {
        "id": "CaT_JTHOdeoF",
        "outputId": "379e210d-2f1d-4029-c2b2-10b79f39af4b",
        "colab": {
          "base_uri": "https://localhost:8080/"
        }
      },
      "outputs": [
        {
          "output_type": "stream",
          "name": "stdout",
          "text": [
            "<class 'pandas.core.frame.DataFrame'>\n",
            "RangeIndex: 1000 entries, 0 to 999\n",
            "Data columns (total 14 columns):\n",
            " #   Column          Non-Null Count  Dtype   \n",
            "---  ------          --------------  -----   \n",
            " 0   income          1000 non-null   int64   \n",
            " 1   female          1000 non-null   int64   \n",
            " 2   age             1000 non-null   int64   \n",
            " 3   job             1000 non-null   category\n",
            " 4   num_dependents  1000 non-null   int64   \n",
            " 5   rent            1000 non-null   category\n",
            " 6   own_res         1000 non-null   category\n",
            " 7   new_car         1000 non-null   category\n",
            " 8   chk_acct        1000 non-null   category\n",
            " 9   sav_acct        1000 non-null   category\n",
            " 10  num_accts       1000 non-null   int64   \n",
            " 11  mobile          1000 non-null   category\n",
            " 12  customer_id     1000 non-null   object  \n",
            " 13  answered        1000 non-null   category\n",
            "dtypes: category(8), int64(5), object(1)\n",
            "memory usage: 56.0+ KB\n",
            "None\n"
          ]
        }
      ],
      "source": [
        "# List of variables to convert to categorical\n",
        "categorical_columns = ['job', 'chk_acct', 'sav_acct', 'rent', 'own_res', 'new_car', 'mobile', 'product']\n",
        "\n",
        "# Convert these columns to categorical\n",
        "for col in categorical_columns:\n",
        "    if col in df.columns:\n",
        "        df[col] = pd.Categorical(df[col])\n",
        "\n",
        "# Display the updated dataframe info\n",
        "print(df.info())\n"
      ]
    },
    {
      "cell_type": "code",
      "execution_count": 36,
      "metadata": {
        "id": "9sXSxleG0xnB",
        "outputId": "9cfa6e46-7a9d-4d00-9b73-635377cb0e31",
        "colab": {
          "base_uri": "https://localhost:8080/"
        }
      },
      "outputs": [
        {
          "output_type": "stream",
          "name": "stdout",
          "text": [
            "  mobile answered\n",
            "0      0        0\n",
            "1      0        0\n",
            "2      0        0\n",
            "3      0        0\n",
            "4      0        0\n"
          ]
        }
      ],
      "source": [
        "# Create the 'answered' column based on the 'mobile' column (proxy for answering)\n",
        "df['answered'] = df['mobile'].apply(lambda x: 1 if x == 1 else 0)\n",
        "\n",
        "# Display the updated dataframe with 'answered' column\n",
        "print(df[['mobile', 'answered']].head())\n"
      ]
    },
    {
      "cell_type": "code",
      "source": [
        "from google.colab import drive\n",
        "drive.mount('/content/drive')\n",
        "\n",
        "!jupyter nbconvert --to html \"lab1_python_intro.ipynb\""
      ],
      "metadata": {
        "id": "ekRPE9-T5aXa"
      },
      "execution_count": null,
      "outputs": []
    },
    {
      "cell_type": "markdown",
      "metadata": {
        "id": "VT-xgJrx0xnB"
      },
      "source": [
        "# Step 3: Exploratory Data Analysis (EDA)\n",
        "- Explore the relationships between the target and independent variables\n",
        "- Create at least five charts to show the relationships, using different chart types that are approriate to the analysis\n",
        "- Ensure that all charts are clearly labeled and formatted"
      ]
    },
    {
      "cell_type": "code",
      "execution_count": null,
      "metadata": {
        "id": "b-wswJqUjsYK"
      },
      "outputs": [],
      "source": [
        "# Chart 1\n"
      ]
    },
    {
      "cell_type": "code",
      "execution_count": null,
      "metadata": {
        "id": "sPqi7APj0xnB"
      },
      "outputs": [],
      "source": [
        "# Chart 2"
      ]
    },
    {
      "cell_type": "code",
      "execution_count": null,
      "metadata": {
        "id": "k2IAe2ii0xnB"
      },
      "outputs": [],
      "source": [
        "# Chart 3"
      ]
    },
    {
      "cell_type": "code",
      "execution_count": null,
      "metadata": {
        "id": "Es43k5Pf0xnB"
      },
      "outputs": [],
      "source": [
        "# Chart 4"
      ]
    },
    {
      "cell_type": "code",
      "execution_count": null,
      "metadata": {
        "id": "oNhMsNuz0xnC"
      },
      "outputs": [],
      "source": [
        "# Chart 5"
      ]
    },
    {
      "cell_type": "markdown",
      "metadata": {
        "id": "SoJLJMlceORN"
      },
      "source": [
        "## Step 4: Modeling\n",
        "\n",
        "### 4.1: Calculate the base probability of answering\n",
        "\n",
        "If we use no model at all, how good is our chance of predicting someone leaving?"
      ]
    },
    {
      "cell_type": "code",
      "execution_count": null,
      "metadata": {
        "id": "Q31xdZot0xnC"
      },
      "outputs": [],
      "source": [
        "#get the default probability"
      ]
    },
    {
      "cell_type": "markdown",
      "metadata": {
        "id": "yW7Brf2n0xnC"
      },
      "source": [
        "### 4.2: Split the training and testing datasets\n",
        "\n",
        "- split df_clean using train_test_split function\n",
        "- all variables except answered should be in the x variable\n",
        "- answered is in the y variable\n"
      ]
    },
    {
      "cell_type": "code",
      "execution_count": null,
      "metadata": {
        "id": "bwvxpAnA0xnC"
      },
      "outputs": [],
      "source": [
        "# Split data into training and testing sets\n"
      ]
    },
    {
      "cell_type": "markdown",
      "metadata": {
        "id": "kl0fwgNB0xnC"
      },
      "source": [
        "### 4.3: Create a Decision Tree\n",
        "- Use all available attributes (except those that were eliminated in step 3)\n",
        "- It is recommended to use the type \"entropy\" and a max_depth of 4"
      ]
    },
    {
      "cell_type": "code",
      "execution_count": null,
      "metadata": {
        "id": "WBH7aRXbOUf4"
      },
      "outputs": [],
      "source": [
        "#create a tree"
      ]
    },
    {
      "cell_type": "code",
      "execution_count": null,
      "metadata": {
        "id": "J-BJUqdM0xnD"
      },
      "outputs": [],
      "source": [
        "#display (visualize) the tree"
      ]
    },
    {
      "cell_type": "markdown",
      "metadata": {
        "id": "kS4-f2osS0s0"
      },
      "source": [
        "### 4.4: What is the accuracy?\n",
        "\n",
        "This should be better than the base probability, or you have failed in your objective"
      ]
    },
    {
      "cell_type": "code",
      "execution_count": null,
      "metadata": {
        "id": "kl_KUqeqS6Nf"
      },
      "outputs": [],
      "source": [
        "#calculate the probability for your tree"
      ]
    },
    {
      "cell_type": "markdown",
      "metadata": {
        "id": "-I66jKusS_Xe"
      },
      "source": [
        "### 4.5: Create a confusion matrix\n",
        "\n",
        "This will show false positives, true positives, etc."
      ]
    },
    {
      "cell_type": "code",
      "execution_count": null,
      "metadata": {
        "id": "l_dKmgjmTGsj"
      },
      "outputs": [],
      "source": [
        "#create a basic confusion matrix\n"
      ]
    },
    {
      "cell_type": "markdown",
      "metadata": {
        "id": "K9VwS6ziiwx7"
      },
      "source": [
        "Create a more visual, interpretable version of the matrix"
      ]
    },
    {
      "cell_type": "code",
      "execution_count": null,
      "metadata": {
        "id": "z1MOx-sCi4kF"
      },
      "outputs": [],
      "source": [
        "#Create a beautiful matrix; hint - try using Seaborn Heatmap"
      ]
    },
    {
      "cell_type": "markdown",
      "metadata": {
        "id": "vTC161_b9kWm"
      },
      "source": [
        "# Step 5: Evaluate the Model\n",
        "\n",
        "**Assumptions**\n",
        "\n",
        "One of the simplifying assumptions we will make in this project is that all the customers who answer the phone will purchase a product. (This assumption is actually verified by the data.) To model \"answered\" in this case is therefore equivalent to modeling \"purchased.\"\n",
        "\n",
        "There are costs and benefits in this case. We will assume that customers purchase a product for 100 dollars. This was the average cost of AdviseInvest products, according to the Director of Sales.  Also, as we learned in the interview, the agent time to make the sale is worth 25 dollars. Profit would therefore be \\$75 dollars for an answered call and a purchase. In sum:\n",
        "\n",
        "**Benefit**: True positive. The customer is predicted to answer, does answer, and purchases a product for 100 dollars for a profit of 100 - 25 = 75.\n",
        "\n",
        "**Cost**: False positive. The customer is predicted to answer, but does not answer, so there is a loss of 25. (We assume the agent cannot schedule another call at the last minute, or spends the entire time slot trying to make the call.)\n",
        "\n",
        "When you create a calculation you can use:\n",
        "- True answered * 75 -> These people purchased\n",
        "- False answered * 25 -> You can't schedule another call\n",
        "\n",
        "For this exercise, we propose that customers who are not predicted to answer will not be called, so there would be no benefits and no costs for them.  \n",
        "\n",
        "### 5.1 Calculate the Profit Using the Model"
      ]
    },
    {
      "cell_type": "code",
      "execution_count": null,
      "metadata": {
        "id": "y3BHSJu-9s8z"
      },
      "outputs": [],
      "source": [
        "# Write a calcuation for the profit from your model"
      ]
    },
    {
      "cell_type": "markdown",
      "metadata": {
        "id": "GrqwIDNXmwN8"
      },
      "source": [
        "### 5.2 Compare to the Default Profit\n",
        "\n",
        "How much profit (revenue - costs) could be expected if all customers are called? We can consider this a baseline case for profit since it does not require a model.\n",
        "\n",
        "In other words, to calculate profit in this baseline scenario treat the customers who answer as true positives treat the customers who do not answer as false positives."
      ]
    },
    {
      "cell_type": "code",
      "execution_count": null,
      "metadata": {
        "id": "ak1I_A2HmvUF"
      },
      "outputs": [],
      "source": [
        "#Write a calculation for the overall profit without using the model (default)"
      ]
    },
    {
      "cell_type": "markdown",
      "metadata": {
        "id": "2eyMS-Rt0xnH"
      },
      "source": [
        "### 5.3 Tune the Model\n",
        "- Adjust the size or shape of the tree, then test the accuracy\n",
        "- Continue to make changes until you find a set of hyperparameters that improves the accuracy compared to the initial model"
      ]
    },
    {
      "cell_type": "code",
      "execution_count": null,
      "metadata": {
        "id": "PjaFCyE10xnH"
      },
      "outputs": [],
      "source": [
        "# Create a new version of the tree with new parameters"
      ]
    },
    {
      "cell_type": "code",
      "execution_count": null,
      "metadata": {
        "id": "CQ5mJ1DM0xnI"
      },
      "outputs": [],
      "source": [
        "# Calculate a new probability"
      ]
    },
    {
      "cell_type": "markdown",
      "metadata": {
        "id": "vZdjOcwo0xnI"
      },
      "source": [
        "### 5.4 Apply the Model to New Customers\n",
        "- Import the \"adviseinvest_new_customer_data.csv\" file\n",
        "- Using the tree model, predict each customer for the target variable"
      ]
    },
    {
      "cell_type": "code",
      "execution_count": null,
      "metadata": {
        "id": "p7YN2HfO0xnI"
      },
      "outputs": [],
      "source": [
        "#Import new customer data into a new data frame"
      ]
    },
    {
      "cell_type": "code",
      "execution_count": null,
      "metadata": {
        "id": "TX241XVC0xnJ"
      },
      "outputs": [],
      "source": [
        "#Predict the number of customers who will be yes/no for the target variable"
      ]
    },
    {
      "cell_type": "markdown",
      "metadata": {
        "id": "MzLoM10Eo2j3"
      },
      "source": [
        "# Step 6: Plan for Deployment\n",
        "### 6.1: Did we improve our profit using the model?  "
      ]
    },
    {
      "cell_type": "markdown",
      "metadata": {
        "id": "GY_OTV420xnJ"
      },
      "source": [
        "Write your conclusion notes below:"
      ]
    },
    {
      "cell_type": "markdown",
      "metadata": {
        "id": "cTCTBbis0xnJ"
      },
      "source": [
        "### 6.2: How should the model be deployed?\n",
        "\n",
        "Write your recommendations below:"
      ]
    },
    {
      "cell_type": "markdown",
      "metadata": {
        "id": "UAAS2TY50xnJ"
      },
      "source": []
    }
  ],
  "metadata": {
    "colab": {
      "provenance": []
    },
    "kernelspec": {
      "display_name": "Python 3",
      "name": "python3"
    },
    "language_info": {
      "name": "python"
    }
  },
  "nbformat": 4,
  "nbformat_minor": 0
}